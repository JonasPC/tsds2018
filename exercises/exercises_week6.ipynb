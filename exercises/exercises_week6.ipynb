{
 "cells": [
  {
   "cell_type": "markdown",
   "metadata": {},
   "source": [
    "> **DO NOT EDIT IF INSIDE tsds folder**\n"
   ]
  },
  {
   "cell_type": "markdown",
   "metadata": {},
   "source": [
    "# Week 6: Spatial data\n",
    "\n",
    "*Thursday, March 22, 2018*\n",
    "\n",
    "In this part of today's session you will be working with structuring and plotting spatial data. \n",
    "- Exercise 6.1: basic shapes\n",
    "- Exercise 6.2: working with Geopandas and interpolation\n",
    "- Exercise 6.3: interactive plotting with folium\n",
    "\n",
    "\n",
    "To install the packages we use today you can run the following command:\n",
    "\n",
    "`conda install -c conda-forge geopandas folium -y`\n",
    "\n",
    "**Questions**: Outside of class, use [issue](https://github.com/abjer/tsds/issues) on GitHub for asking questions.\n",
    "\n",
    "We begin with loading the standard packages:\n"
   ]
  },
  {
   "cell_type": "code",
   "execution_count": 1,
   "metadata": {},
   "outputs": [],
   "source": [
    "import os\n",
    "import requests\n",
    "\n",
    "import numpy as np\n",
    "import pandas as pd\n",
    "import seaborn as sns\n",
    "\n",
    "import folium\n",
    "import geopandas as gpd\n",
    "import fiona\n",
    "import shapely\n",
    "\n",
    "%matplotlib inline"
   ]
  },
  {
   "cell_type": "markdown",
   "metadata": {},
   "source": [
    "## Exercises"
   ]
  },
  {
   "cell_type": "markdown",
   "metadata": {},
   "source": [
    "### Part 6.1: Working with spatial objects \n",
    "\n",
    "This exercise will serve as a brief tutorial on spatial data. We will learn how to make spatial shape and use their basic operations."
   ]
  },
  {
   "cell_type": "markdown",
   "metadata": {},
   "source": [
    "> **Ex. 6.1.1 ** Make a polygon which is square that has left,lower corner in 2,2 and right,upper in 5,5. Make a triangle passing through (0,0), (4,0) and (2,4). What do they look like? Store the two polygons respectively as `square` and `triangle`\n",
    "\n",
    "> *Hint*: the submoduele shapely.geometry has methods such as `Point`, `Polygon` and `Multipolygon`"
   ]
  },
  {
   "cell_type": "markdown",
   "metadata": {},
   "source": [
    "> **Ex. 6.1.2 ** What is the spatial difference of square subtracted triangle? What is the union?"
   ]
  },
  {
   "cell_type": "markdown",
   "metadata": {},
   "source": [
    "> **Ex. 6.1.3** Make a GeoSeries of `square`, `triangle`. Plot the geoseries."
   ]
  },
  {
   "cell_type": "markdown",
   "metadata": {},
   "source": [
    "### Part 6.2: Working with house sale prices\n",
    "\n",
    "In this exercise we will work with administrative Danish data and look at house prices.\n",
    "\n",
    "We have downloaded the shapes of the current Danish municipalities and parishes from [here](https://download.kortforsyningen.dk/content/danmarks-administrative-geografiske-inddeling-110000) for you. They are available [here](https://github.com/abjer/tsds/tree/master/data/dk_admin_shapes/) in the course repo. "
   ]
  },
  {
   "cell_type": "markdown",
   "metadata": {},
   "source": [
    "#### Basic operations with Geopandas\n",
    "\n",
    "The first three exercises in this part will investigate basic concepts and operations with geopandas.\n",
    "\n",
    "> **Ex. 6.2.1 ** Load the municipalities data. \n",
    "- What is the CRS of the GeoDataFrame - what projection does it correspond to? What is the measure of distance? \n",
    "- Which three munipalities have the largest area?\n",
    "\n",
    "> Note: to find the entire area of a municipality which consists of island etc. you can use the `unary_union` method for GeoSeries."
   ]
  },
  {
   "cell_type": "markdown",
   "metadata": {},
   "source": [
    "> **Ex. 6.2.2** Select rows in the GeoDataFrame as follows. Make two boolean series as described below and make a combined series which takes the value True if both holds, otherwise False.\n",
    "> - first: row is True if corresponding the row shape is in the Capital Region or Sealand Region (i.e. `'Region Hovedstaden', 'Region Sjælland'`) \n",
    "> - second: row is True if the  the row geometry is ***not*** in Bornholm or nearby (i.e. `'Bornholm', 'Christiansø'`)\n",
    "\n",
    "> *Hint*: recall that we can check if a series elements are elements in a series using the `isin` method\n"
   ]
  },
  {
   "cell_type": "markdown",
   "metadata": {},
   "source": [
    "> **Ex. 6.2.3** Extract the extremum values (min,max) in all dimensions.\n",
    "\n",
    "> *Hint*: extreme values, i.e. bounds, can be found using `.bounds` on a GeoDataFrame (also works on shapes, GeoSeries) - you further need to compute the global max, min values of these."
   ]
  },
  {
   "cell_type": "markdown",
   "metadata": {},
   "source": [
    "#### Interpolation of house prices\n",
    "\n",
    "In the following three exercises we aim to understand how house price sales are distributed throughout Denmark. We focus on keep our focus on Sealand and nearby. We are interested in seeing the disparity between urban and rural areas. The exercise will illustrate how to make a interpolation of data which is useful for feature engineering and get a good understanding of the data.\n",
    "\n",
    "To do this we compute local spatial neighborhood measures of house prices in Sealand and around. We first make a grid of squares 500m apart. Then we make a model of house prices and apply the model to infer the prices around Sealand. Finally we visualize the output by selecting only the square intersecting with actual with the administrative data."
   ]
  },
  {
   "cell_type": "markdown",
   "metadata": {},
   "source": [
    "> **Ex. 6.2.4** We are now to construct a 500mx500m grid for the bounds of Sealand and around:\n",
    "- Make a grid of points 500m apart in horizontal and vertical directions that are within the extremum values of Sealand's shape. \n"
   ]
  },
  {
   "cell_type": "markdown",
   "metadata": {},
   "source": [
    "> **Ex. 6.2.5** Compute interpolation of house price for each grid cell as follows:\n",
    "- Load the pre-structured data with house sales prices for the capital region of Denmark. It is available under the internal course page under files, see [here](https://absalon.instructure.com/courses/24660/files).\n",
    "- Make a loop over sale_year (2012, 2013):\n",
    "    - Fit a nearest neighbor regression model to the square meter price (i.e. `price_area` for each year). Set number of neighbors to 25 and radius to 25000        \n",
    "    - Apply the model to the grid data and assign the estimated price as a column called `pYYYY` where YYYY is the year.\n",
    "    - Make a new column where you store log10 of house price for the given year and call it`pYYYY_log`\n",
    "    \n",
    "> *Hint 1:* sklearn has a regression for k-nearest neighbors\n",
    "\n",
    "> *Hint 2:* use the Easting and Northing in house prices which correspond to the UTM Z32 North CRS, i.e Denmark. In the dataset they are called 'e' and 'n'."
   ]
  },
  {
   "cell_type": "markdown",
   "metadata": {},
   "source": [
    "> **Ex 6.3.6:** Visualize the house data\n",
    "- For each of these points construct a square polygon assuming that the point is the south west corner of the square. \n",
    "- Select all sqaures that intersects with Sealand and nearby islands.\n",
    "- Plot the grid data for 2012\n",
    "\n",
    "> *Hint:* Once you have created the grid the following function below may be useful for converting into a GeoDataFrame. You need to specify the column names for your x and y coordinates.\n",
    "\n",
    "> *Hint 2:* We can select the points that intersect by using a spatial join between the house locations and municipalities.m"
   ]
  },
  {
   "cell_type": "code",
   "execution_count": null,
   "metadata": {},
   "outputs": [],
   "source": [
    "from shapely.geometry import box\n",
    "\n",
    "dk_crs = {'ellps': 'GRS80', 'no_defs': True, 'proj': 'utm', 'units': 'm', 'zone': 32}\n",
    "\n",
    "def cell_coords_to_polygons(square_df, x='e', y='n', dist=500, crs=dk_crs):\n",
    "    '''\n",
    "    Convert coordinates to squares in a GeoDataFrame.\n",
    "       \n",
    "    Parameters\n",
    "    ----------\n",
    "    x : str\n",
    "        Name of the horizontal coordinate (~longitude)            \n",
    "    y : str\n",
    "        Name of the vertical coordinate (~latitude)                        \n",
    "    dist : int or float\n",
    "        Size of polygons\n",
    "    crs : dict\n",
    "        Coordinate Reference System\n",
    "\n",
    "\n",
    "    Returns\n",
    "    ----------\n",
    "    squares_gdf: geopandas.GeoDataFrame\n",
    "        This table contains squares as geometry\n",
    "        and the original data.\n",
    "    '''\n",
    "    \n",
    "    def _to_square_polygon(row):\n",
    "        '''\n",
    "        This auxiliary function convert a square's lower,left \n",
    "        coordinates to a polygon. \n",
    "        \n",
    "        Parameters\n",
    "        ----------\n",
    "        row : pandas.Series\n",
    "            This is a DataFrame row.            \n",
    "        \n",
    "        Returns\n",
    "        ----------\n",
    "        poly: shapely.Polygon        \n",
    "        \n",
    "        '''\n",
    "        \n",
    "        d = dist/2\n",
    "        \n",
    "        poly = box(row[x]-d, row[y]-d, row[x]+d, row[y]+d)\n",
    "        \n",
    "        return poly\n",
    "    \n",
    "    # convert to polygons\n",
    "    square_geoms = gpd.GeoSeries(square_df.apply(_to_square_polygon, axis=1), crs=crs)\n",
    "    \n",
    "    # make GeoDataFrame\n",
    "    square_gdf = gpd.GeoDataFrame(data=square_df, geometry=square_geoms)\n",
    "    \n",
    "    return square_gdf\n",
    "\n",
    "# convert example\n",
    "df_example = pd.DataFrame([(617288, 6049782),(617288, 6050282)], columns=['e','n'])\n",
    "gdf_example = cell_coords_to_polygons(df_example)"
   ]
  },
  {
   "cell_type": "markdown",
   "metadata": {},
   "source": [
    "### Part 6.3: Exploring OpenStreetMaps through interactive plotting\n",
    "\n",
    "In this exercise we will play around with OpenStreetMaps (OSM) data. This exercise is short and exploratory but may serve as the beginning of a deeper analysis of features found in OpenStreetMaps. Before we begin you need to download and unzip the shapefile for Denmark [here](https://download.geofabrik.de/europe/denmark-latest-free.shp.zip). \n",
    "\n",
    "> **Ex. 6.3.1.** Load the OSM shapefile for `landuse`. What is the CRS for the OSM data?\n",
    "\n",
    "> *Pro tip*: You can use python module `os` to lookup all files in a given folder. The command is executed as os.listdir(my_path) where my_path provides the path to the relevant folder."
   ]
  },
  {
   "cell_type": "markdown",
   "metadata": {},
   "source": [
    "We are going to focus on the focus in the dataset. We will use the [centroid](https://en.wikipedia.org/wiki/Centroid) of the Polygons which act as points that are easy for plotting.\n",
    "\n",
    "> **Ex. 6.3.2.** Select the forest features and extract the lat, lon and from centroid."
   ]
  },
  {
   "cell_type": "markdown",
   "metadata": {},
   "source": [
    "> **Ex. 6.3.3.** Select the rows that are in Sealand or surrounding isles (you can reuse your answer to 6.2.3). Note make sure that the CRS of the GeoDataFrames match."
   ]
  },
  {
   "cell_type": "markdown",
   "metadata": {},
   "source": [
    "> **Ex. 6.3.4.** Make a folium plot of the forest centroids in Sealand or nearby.\n",
    "\n",
    "> *Hint:* the folium plugin called `FastMarkerCluster` can quickly plot many points. Note another folium plugin is called `MarkerCluster` and can plot points which have names. \n",
    "\n",
    "> You can use the below code to get you started with a plot beginning in Copenhagen:\n",
    "\n",
    ">```\n",
    "m = folium.Map(location=[55.7, 12.5],\n",
    "               tiles='Stamen Toner',\n",
    "               zoom_start=10)\n",
    "```"
   ]
  }
 ],
 "metadata": {
  "kernelspec": {
   "display_name": "Python 3",
   "language": "python",
   "name": "python3"
  },
  "language_info": {
   "codemirror_mode": {
    "name": "ipython",
    "version": 3
   },
   "file_extension": ".py",
   "mimetype": "text/x-python",
   "name": "python",
   "nbconvert_exporter": "python",
   "pygments_lexer": "ipython3",
   "version": "3.6.2"
  }
 },
 "nbformat": 4,
 "nbformat_minor": 2
}
