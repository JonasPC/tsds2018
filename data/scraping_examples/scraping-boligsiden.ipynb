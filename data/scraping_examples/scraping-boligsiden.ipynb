{
 "cells": [
  {
   "cell_type": "markdown",
   "metadata": {},
   "source": [
    "## Setup connection"
   ]
  },
  {
   "cell_type": "code",
   "execution_count": 46,
   "metadata": {
    "collapsed": true
   },
   "outputs": [],
   "source": [
    "import requests\n",
    "import time\n",
    "session = requests.session()\n",
    "#session.headers['User-Agent'] = 'Mozilla/5.0 (Macintosh; Intel Mac OS X 10.11; rv:58.0) Gecko/20100101 Firefox/58.0' # imitate browser\n",
    "#session.header['email'] = ''\n",
    "def ratelimit():\n",
    "    time.sleep(0.5)\n",
    "def get(url,iterations=10):\n",
    "    for i in range(iterations):\n",
    "        ratelimit()\n",
    "        try:\n",
    "            response = session.get(url)\n",
    "        except:\n",
    "            continue\n",
    "        if response.ok:\n",
    "            return response\n",
    "    return None"
   ]
  },
  {
   "cell_type": "markdown",
   "metadata": {},
   "source": [
    "# Collect data"
   ]
  },
  {
   "cell_type": "markdown",
   "metadata": {},
   "source": [
    "## Roadmap of the page (located using the \"network\" fan)"
   ]
  },
  {
   "cell_type": "code",
   "execution_count": 9,
   "metadata": {},
   "outputs": [
    {
     "data": {
      "text/plain": [
       "['albertslund', 'alleroed', 'assens', 'ballerup', 'billund']"
      ]
     },
     "execution_count": 9,
     "metadata": {},
     "output_type": "execute_result"
    }
   ],
   "source": [
    "# Get map of the page\n",
    "url = 'https://www.boligsiden.dk/area/getallmunicipalities'\n",
    "muncipalities = get(url).json()\n",
    "slugs = [i['encodedName'].lower() for i in muncipalities] # slugs are used to navigate the page\n",
    "slugs[0:5]"
   ]
  },
  {
   "cell_type": "markdown",
   "metadata": {},
   "source": [
    "## Define log"
   ]
  },
  {
   "cell_type": "code",
   "execution_count": 18,
   "metadata": {},
   "outputs": [
    {
     "data": {
      "text/plain": [
       "35"
      ]
     },
     "execution_count": 18,
     "metadata": {},
     "output_type": "execute_result"
    }
   ],
   "source": [
    "# Define log\n",
    "done = set()\n",
    "logfile = open('boligsiden/boligsiden_log','w')\n",
    "logfile.write('url,path,length,servertime,delta_t\\n')"
   ]
  },
  {
   "cell_type": "code",
   "execution_count": null,
   "metadata": {
    "collapsed": true
   },
   "outputs": [],
   "source": [
    "# If running more than once, load the logfile\n",
    "import pandas as pd \n",
    "log_df = pd.read_csv('boligsiden/boligsiden_log')\n",
    "done = set(log_df.url)"
   ]
  },
  {
   "cell_type": "markdown",
   "metadata": {},
   "source": [
    "## Define path to raw data"
   ]
  },
  {
   "cell_type": "code",
   "execution_count": 10,
   "metadata": {
    "collapsed": true
   },
   "outputs": [],
   "source": [
    "! mkdir boligsiden\n",
    "! mkdir boligsiden/raw_json"
   ]
  },
  {
   "cell_type": "markdown",
   "metadata": {},
   "source": [
    "## Collect data"
   ]
  },
  {
   "cell_type": "markdown",
   "metadata": {},
   "source": [
    "### BBR"
   ]
  },
  {
   "cell_type": "code",
   "execution_count": null,
   "metadata": {
    "collapsed": true
   },
   "outputs": [],
   "source": [
    "# Collect the number of results for each muncipality\n",
    "muncipality2count = {}\n",
    "for slug in slugs:\n",
    "    url = 'https://www.boligsiden.dk/salespriceresult/getcountbyarchive?salgspristype=bbr&periode.from=2012-01-01&sortdescending=true&sort=vejnavn&kommune=%s&boligtype=alle&side=1'%slug\n",
    "    response = get(url)\n",
    "    muncipality2count[slug] = response.json()['count']\n",
    "import json\n",
    "json.dump(muncipality2count,open('slug2count','w'))"
   ]
  },
  {
   "cell_type": "code",
   "execution_count": null,
   "metadata": {
    "collapsed": true
   },
   "outputs": [],
   "source": [
    "muncipality2count = json.load(open('slug2count','r'))"
   ]
  },
  {
   "cell_type": "code",
   "execution_count": null,
   "metadata": {
    "collapsed": true
   },
   "outputs": [],
   "source": [
    "logfile = open('boligsiden/boligsiden_log','a')\n",
    "last_time = time.time()\n",
    "for slug in slugs:\n",
    "    print(slug)\n",
    "    n_results = muncipality2count[slug]\n",
    "    for page_n in range(1,int(n_results/30)+2):\n",
    "        url ='https://www.boligsiden.dk/salespriceresult/getdata?salgspristype=bbr&periode.from=2012-01-01&sortdescending=true&sort=vejnavn&kommune=%s&boligtype=alle&side=%d'%(slug,page_n)\n",
    "        if url in done:\n",
    "            continue\n",
    "        try:\n",
    "            response = get(url)\n",
    "        except:\n",
    "            time.sleep(60) # remote connection error.\n",
    "            response = get(url)\n",
    "        response_json = response.json()\n",
    "        path = 'boligsiden/raw_json/bolig_results_%s_%d'%(slug,page_n)\n",
    "        json.dump(response_json,open(path,'w'))\n",
    "        # log\n",
    "        servertime = time.time()\n",
    "        delta_t = servertime-last_time\n",
    "        length  = len(response.text)\n",
    "        logfile.write('%s,%s,%d,%r,%r\\n'%(url,path,length,servertime,delta_t))\n",
    "        last_time = servertime\n",
    "        done.add(url)\n",
    "        if page_n%10==0:\n",
    "            print(int(n_results/30)+2-page_n,end=' ')\n"
   ]
  },
  {
   "cell_type": "markdown",
   "metadata": {},
   "source": [
    "### Salesprices"
   ]
  },
  {
   "cell_type": "code",
   "execution_count": null,
   "metadata": {
    "collapsed": true
   },
   "outputs": [],
   "source": [
    "# first collect the number of results for each muncipality.\n",
    "muncipality2count_sales = {}"
   ]
  },
  {
   "cell_type": "code",
   "execution_count": null,
   "metadata": {
    "collapsed": true
   },
   "outputs": [],
   "source": [
    "import tqdm\n",
    "for slug in tqdm.tqdm(slugs):\n",
    "    if slug in muncipality2count_sales:\n",
    "        continue\n",
    "    url = 'https://www.boligsiden.dk/salespriceresult/getcountbypropertySale?salgspristype=arkiv&periode.from=2012-01-01&sortdescending=true&sort=udbudt&kommune=%s&boligtype=alle&side=1'%slug\n",
    "    response = get(url)\n",
    "    muncipality2count_sales[slug] = response.json()['count']\n",
    "json.dump(muncipality2count_sales,open('slug2count_sales','w'))"
   ]
  },
  {
   "cell_type": "code",
   "execution_count": 50,
   "metadata": {
    "collapsed": true
   },
   "outputs": [],
   "source": [
    "\n",
    "muncipality2count_sales = json.load(open('slug2count_sales','r'))"
   ]
  },
  {
   "cell_type": "markdown",
   "metadata": {},
   "source": [
    "### Set log and path to data"
   ]
  },
  {
   "cell_type": "code",
   "execution_count": 47,
   "metadata": {
    "collapsed": true
   },
   "outputs": [],
   "source": [
    "! mkdir boligsiden/raw_json_sales/"
   ]
  },
  {
   "cell_type": "code",
   "execution_count": 51,
   "metadata": {},
   "outputs": [
    {
     "data": {
      "text/plain": [
       "35"
      ]
     },
     "execution_count": 51,
     "metadata": {},
     "output_type": "execute_result"
    }
   ],
   "source": [
    "done_sales = set()\n",
    "logfile = open('boligsiden/boligsiden_log2','w')\n",
    "logfile.write('url,path,length,servertime,delta_t\\n')"
   ]
  },
  {
   "cell_type": "code",
   "execution_count": null,
   "metadata": {
    "collapsed": true
   },
   "outputs": [],
   "source": [
    "logfile = open('boligsiden/boligsiden_log2','a')\n",
    "last_time = time.time()\n",
    "for slug in slugs:\n",
    "    print(slug)\n",
    "    n_results = muncipality2count_sales[slug]\n",
    "    for page_n in range(1,int(n_results/30)+2):\n",
    "        url ='https://www.boligsiden.dk/salespriceresult/getdata?salgspristype=arkiv&periode.from=2012-01-01&sortdescending=true&sort=udbudt&kommune=%s&boligtype=alle&side=%d'%(slug,page_n)\n",
    "        if url in done_sales:\n",
    "            continue\n",
    "        try:\n",
    "            response = get(url)\n",
    "        except:\n",
    "            time.sleep(60) # remote connection error.\n",
    "            response = get(url)\n",
    "        response_json = response.json()\n",
    "        path = 'boligsiden/raw_json_sales/bolig_results_sales_%s_%d'%(slug,page_n)\n",
    "        json.dump(response_json,open(path,'w'))\n",
    "        # log\n",
    "        servertime = time.time()\n",
    "        delta_t = servertime-last_time\n",
    "        length  = len(response.text)\n",
    "        logfile.write('%s,%s,%d,%r,%r\\n'%(url,path,length,servertime,delta_t))\n",
    "        last_time = servertime\n",
    "        done_sales.add(url)\n",
    "        if page_n%10==0:\n",
    "            print(int(n_results/30)+2-page_n,end=' ')\n"
   ]
  },
  {
   "cell_type": "markdown",
   "metadata": {},
   "source": [
    "# Format data"
   ]
  },
  {
   "cell_type": "code",
   "execution_count": 74,
   "metadata": {
    "collapsed": true
   },
   "outputs": [],
   "source": [
    "from os import listdir\n",
    "base_path = 'boligsiden/raw_json/'\n",
    "files = [base_path+i for i in listdir(base_path)]\n",
    "import pandas as pd\n",
    "data = []\n",
    "def flatten_dict(d,depth=2):\n",
    "    for step in range(depth):\n",
    "        for key in list(d.keys()):\n",
    "            if type(d[key])==dict:\n",
    "                for key2 in d[key]:\n",
    "                    d['%s_%s'%(key,key2)] = d[key][key2]\n",
    "    for key in list(d.keys()):\n",
    "        if type(d[key])==dict:\n",
    "            del d[key]\n",
    "    return d\n",
    "\n",
    "muncipality2name = {muncipality['encodedName']:muncipality['name'] for muncipality in muncipalities}\n",
    "\n",
    "for filename in files:\n",
    "    results = json.load(open(filename,'r'))\n",
    "    for datapoint in results['searchResult']['result']['bbrItems']:\n",
    "        data.append(flatten_dict(datapoint))\n",
    "        \n",
    "df = pd.DataFrame(data)"
   ]
  },
  {
   "cell_type": "code",
   "execution_count": 57,
   "metadata": {
    "collapsed": true
   },
   "outputs": [],
   "source": [
    "from os import listdir\n",
    "base_path = 'boligsiden/raw_json_sales/'\n",
    "files = [base_path+i for i in listdir(base_path)]\n",
    "import pandas as pd\n",
    "data = []\n",
    "for filename in files:\n",
    "    results = json.load(open(filename,'r'))\n",
    "    for datapoint in results['searchResult']['result']['properties']:\n",
    "        data.append(flatten_dict(datapoint,depth=1))\n",
    "        \n",
    "df_sales = pd.DataFrame(data)"
   ]
  },
  {
   "cell_type": "code",
   "execution_count": 58,
   "metadata": {},
   "outputs": [
    {
     "data": {
      "text/html": [
       "<div>\n",
       "<style scoped>\n",
       "    .dataframe tbody tr th:only-of-type {\n",
       "        vertical-align: middle;\n",
       "    }\n",
       "\n",
       "    .dataframe tbody tr th {\n",
       "        vertical-align: top;\n",
       "    }\n",
       "\n",
       "    .dataframe thead th {\n",
       "        text-align: right;\n",
       "    }\n",
       "</style>\n",
       "<table border=\"1\" class=\"dataframe\">\n",
       "  <thead>\n",
       "    <tr style=\"text-align: right;\">\n",
       "      <th></th>\n",
       "      <th>address</th>\n",
       "      <th>agentChainName</th>\n",
       "      <th>agentsLogoLink</th>\n",
       "      <th>areaParcel</th>\n",
       "      <th>areaPaymentCash</th>\n",
       "      <th>areaResidential</th>\n",
       "      <th>areaWeighted</th>\n",
       "      <th>canShowSalesPeriodTotal</th>\n",
       "      <th>city</th>\n",
       "      <th>dateAnnounced</th>\n",
       "      <th>...</th>\n",
       "      <th>placeName</th>\n",
       "      <th>postal</th>\n",
       "      <th>priceDevelopment</th>\n",
       "      <th>propertyLink</th>\n",
       "      <th>rating_averageRating</th>\n",
       "      <th>rating_roundAverageRating</th>\n",
       "      <th>redirectLink</th>\n",
       "      <th>salesPeriod</th>\n",
       "      <th>salesPeriodTotal</th>\n",
       "      <th>uniqueNumber</th>\n",
       "    </tr>\n",
       "  </thead>\n",
       "  <tbody>\n",
       "    <tr>\n",
       "      <th>0</th>\n",
       "      <td>Musvitvej 6</td>\n",
       "      <td></td>\n",
       "      <td>https://pic.boligsiden.dk/agent/00000000000000...</td>\n",
       "      <td>964</td>\n",
       "      <td>348</td>\n",
       "      <td>0</td>\n",
       "      <td>-</td>\n",
       "      <td>True</td>\n",
       "      <td>Kruså</td>\n",
       "      <td>19-01-2004</td>\n",
       "      <td>...</td>\n",
       "      <td>Kollund</td>\n",
       "      <td>6340</td>\n",
       "      <td>0%</td>\n",
       "      <td>~/arkiv/156283111</td>\n",
       "      <td>None</td>\n",
       "      <td>None</td>\n",
       "      <td>https://www.boligsiden.dk/viderestilling/d5e7c...</td>\n",
       "      <td>4.244</td>\n",
       "      <td>-</td>\n",
       "      <td>156283111</td>\n",
       "    </tr>\n",
       "    <tr>\n",
       "      <th>1</th>\n",
       "      <td>Hærvejen 73</td>\n",
       "      <td></td>\n",
       "      <td>https://pic.boligsiden.dk/agent/00000000000000...</td>\n",
       "      <td>5.000</td>\n",
       "      <td>3.399</td>\n",
       "      <td>387</td>\n",
       "      <td>381</td>\n",
       "      <td>True</td>\n",
       "      <td>Padborg</td>\n",
       "      <td>29-03-2007</td>\n",
       "      <td>...</td>\n",
       "      <td>Gejlå</td>\n",
       "      <td>6330</td>\n",
       "      <td>-56%</td>\n",
       "      <td>~/arkiv/970131189</td>\n",
       "      <td>None</td>\n",
       "      <td>None</td>\n",
       "      <td>https://www.boligsiden.dk/viderestilling/f4657...</td>\n",
       "      <td>2.458</td>\n",
       "      <td>-</td>\n",
       "      <td>970131189</td>\n",
       "    </tr>\n",
       "    <tr>\n",
       "      <th>2</th>\n",
       "      <td>Hærvejen 73</td>\n",
       "      <td></td>\n",
       "      <td>https://pic.boligsiden.dk/agent/00000000000000...</td>\n",
       "      <td>5.000</td>\n",
       "      <td>3.399</td>\n",
       "      <td>387</td>\n",
       "      <td>381</td>\n",
       "      <td>True</td>\n",
       "      <td>Padborg</td>\n",
       "      <td>22-05-2007</td>\n",
       "      <td>...</td>\n",
       "      <td>Gejlå</td>\n",
       "      <td>6330</td>\n",
       "      <td>-56%</td>\n",
       "      <td>~/arkiv/922404547</td>\n",
       "      <td>None</td>\n",
       "      <td>None</td>\n",
       "      <td>https://www.boligsiden.dk/viderestilling/d05c1...</td>\n",
       "      <td>2.423</td>\n",
       "      <td>-</td>\n",
       "      <td>922404547</td>\n",
       "    </tr>\n",
       "    <tr>\n",
       "      <th>3</th>\n",
       "      <td>Gl. Sottrupvej 15</td>\n",
       "      <td></td>\n",
       "      <td>https://pic.boligsiden.dk/agent/00000000000000...</td>\n",
       "      <td>997</td>\n",
       "      <td>115</td>\n",
       "      <td>0</td>\n",
       "      <td>-</td>\n",
       "      <td>True</td>\n",
       "      <td>Bylderup-Bov</td>\n",
       "      <td>24-08-2007</td>\n",
       "      <td>...</td>\n",
       "      <td></td>\n",
       "      <td>6372</td>\n",
       "      <td>0%</td>\n",
       "      <td>~/arkiv/678814717</td>\n",
       "      <td>None</td>\n",
       "      <td>None</td>\n",
       "      <td>https://www.boligsiden.dk/viderestilling/2d1b0...</td>\n",
       "      <td>2.931</td>\n",
       "      <td>-</td>\n",
       "      <td>678814717</td>\n",
       "    </tr>\n",
       "    <tr>\n",
       "      <th>4</th>\n",
       "      <td>Flensborgvej 1 A</td>\n",
       "      <td></td>\n",
       "      <td>https://pic.boligsiden.dk/agent/00000000000000...</td>\n",
       "      <td>2.206</td>\n",
       "      <td>4.125</td>\n",
       "      <td>120</td>\n",
       "      <td>120</td>\n",
       "      <td>True</td>\n",
       "      <td>Kruså</td>\n",
       "      <td>28-09-2007</td>\n",
       "      <td>...</td>\n",
       "      <td></td>\n",
       "      <td>6340</td>\n",
       "      <td>-50%</td>\n",
       "      <td>~/arkiv/125373332</td>\n",
       "      <td>None</td>\n",
       "      <td>None</td>\n",
       "      <td>https://www.boligsiden.dk/viderestilling/c35a4...</td>\n",
       "      <td>2.131</td>\n",
       "      <td>-</td>\n",
       "      <td>125373332</td>\n",
       "    </tr>\n",
       "  </tbody>\n",
       "</table>\n",
       "<p>5 rows × 43 columns</p>\n",
       "</div>"
      ],
      "text/plain": [
       "             address agentChainName  \\\n",
       "0        Musvitvej 6                  \n",
       "1        Hærvejen 73                  \n",
       "2        Hærvejen 73                  \n",
       "3  Gl. Sottrupvej 15                  \n",
       "4   Flensborgvej 1 A                  \n",
       "\n",
       "                                      agentsLogoLink areaParcel  \\\n",
       "0  https://pic.boligsiden.dk/agent/00000000000000...        964   \n",
       "1  https://pic.boligsiden.dk/agent/00000000000000...      5.000   \n",
       "2  https://pic.boligsiden.dk/agent/00000000000000...      5.000   \n",
       "3  https://pic.boligsiden.dk/agent/00000000000000...        997   \n",
       "4  https://pic.boligsiden.dk/agent/00000000000000...      2.206   \n",
       "\n",
       "  areaPaymentCash areaResidential areaWeighted  canShowSalesPeriodTotal  \\\n",
       "0             348               0            -                     True   \n",
       "1           3.399             387          381                     True   \n",
       "2           3.399             387          381                     True   \n",
       "3             115               0            -                     True   \n",
       "4           4.125             120          120                     True   \n",
       "\n",
       "           city dateAnnounced      ...      placeName postal priceDevelopment  \\\n",
       "0         Kruså    19-01-2004      ...        Kollund   6340               0%   \n",
       "1       Padborg    29-03-2007      ...          Gejlå   6330             -56%   \n",
       "2       Padborg    22-05-2007      ...          Gejlå   6330             -56%   \n",
       "3  Bylderup-Bov    24-08-2007      ...                  6372               0%   \n",
       "4         Kruså    28-09-2007      ...                  6340             -50%   \n",
       "\n",
       "        propertyLink rating_averageRating rating_roundAverageRating  \\\n",
       "0  ~/arkiv/156283111                 None                      None   \n",
       "1  ~/arkiv/970131189                 None                      None   \n",
       "2  ~/arkiv/922404547                 None                      None   \n",
       "3  ~/arkiv/678814717                 None                      None   \n",
       "4  ~/arkiv/125373332                 None                      None   \n",
       "\n",
       "                                        redirectLink salesPeriod  \\\n",
       "0  https://www.boligsiden.dk/viderestilling/d5e7c...       4.244   \n",
       "1  https://www.boligsiden.dk/viderestilling/f4657...       2.458   \n",
       "2  https://www.boligsiden.dk/viderestilling/d05c1...       2.423   \n",
       "3  https://www.boligsiden.dk/viderestilling/2d1b0...       2.931   \n",
       "4  https://www.boligsiden.dk/viderestilling/c35a4...       2.131   \n",
       "\n",
       "  salesPeriodTotal  uniqueNumber  \n",
       "0                -     156283111  \n",
       "1                -     970131189  \n",
       "2                -     922404547  \n",
       "3                -     678814717  \n",
       "4                -     125373332  \n",
       "\n",
       "[5 rows x 43 columns]"
      ]
     },
     "execution_count": 58,
     "metadata": {},
     "output_type": "execute_result"
    }
   ],
   "source": [
    "df_sales.head()"
   ]
  },
  {
   "cell_type": "markdown",
   "metadata": {},
   "source": [
    "## Merge"
   ]
  },
  {
   "cell_type": "code",
   "execution_count": 77,
   "metadata": {
    "collapsed": true
   },
   "outputs": [],
   "source": [
    "df_final = df_sales.merge(df,on=['postal','address'])\n",
    "! mkdir final_datasets\n",
    "df_final.to_csv('final_datasets/bolig_data.csv',index=False)\n"
   ]
  }
 ],
 "metadata": {
  "kernelspec": {
   "display_name": "Python 3",
   "language": "python",
   "name": "python3"
  },
  "language_info": {
   "codemirror_mode": {
    "name": "ipython",
    "version": 3
   },
   "file_extension": ".py",
   "mimetype": "text/x-python",
   "name": "python",
   "nbconvert_exporter": "python",
   "pygments_lexer": "ipython3",
   "version": "3.6.1"
  },
  "latex_envs": {
   "bibliofile": "biblio.bib",
   "cite_by": "apalike",
   "current_citInitial": 1,
   "eqLabelWithNumbers": true,
   "eqNumInitial": 0
  },
  "toc": {
   "nav_menu": {
    "height": "87px",
    "width": "252px"
   },
   "navigate_menu": true,
   "number_sections": true,
   "sideBar": true,
   "threshold": 4,
   "toc_cell": false,
   "toc_section_display": "block",
   "toc_window_display": false
  }
 },
 "nbformat": 4,
 "nbformat_minor": 2
}
